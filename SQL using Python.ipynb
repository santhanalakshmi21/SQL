{
 "cells": [
  {
   "cell_type": "code",
   "execution_count": 12,
   "id": "42a5ebea",
   "metadata": {},
   "outputs": [
    {
     "name": "stdout",
     "output_type": "stream",
     "text": [
      "Collecting mysql-connector-python\n",
      "  Downloading mysql_connector_python-8.0.32-cp39-cp39-win_amd64.whl (7.9 MB)\n",
      "Collecting protobuf<=3.20.3,>=3.11.0\n",
      "  Downloading protobuf-3.20.3-cp39-cp39-win_amd64.whl (904 kB)\n",
      "Installing collected packages: protobuf, mysql-connector-python\n",
      "Successfully installed mysql-connector-python-8.0.32 protobuf-3.20.3\n",
      "Note: you may need to restart the kernel to use updated packages.\n"
     ]
    }
   ],
   "source": [
    "pip install mysql-connector-python"
   ]
  },
  {
   "cell_type": "code",
   "execution_count": 1,
   "id": "548711cf",
   "metadata": {},
   "outputs": [],
   "source": [
    "#import  libraries\n",
    "\n",
    "import mysql.connector\n",
    "from mysql.connector import Error\n",
    "import pandas as pd"
   ]
  },
  {
   "cell_type": "code",
   "execution_count": 3,
   "id": "78c4657c",
   "metadata": {},
   "outputs": [
    {
     "name": "stdout",
     "output_type": "stream",
     "text": [
      "MYSQL Database connection successful\n"
     ]
    }
   ],
   "source": [
    "def create_server_connection(host_name,user_name,user_password):\n",
    "    connection=None\n",
    "    try:\n",
    "        connection=mysql.connector.connect(\n",
    "            host=host_name,\n",
    "            user=user_name,\n",
    "            passwd=user_password\n",
    "        )\n",
    "        print(\"MYSQL Database connection successful\")\n",
    "    except Error as err:\n",
    "        print(f\"Error:'{err}'\")\n",
    "    return connection\n",
    "\n",
    "#put our mysql terminal password\n",
    "\n",
    "pw=\"KS21dec2001!\"    #use your own password\n",
    "\n",
    "#Database name\n",
    "\n",
    "db=\"mysql_python\"\n",
    "connection=create_server_connection(\"localhost\",\"root\",pw)"
   ]
  },
  {
   "cell_type": "code",
   "execution_count": 7,
   "id": "8223ee88",
   "metadata": {},
   "outputs": [
    {
     "name": "stdout",
     "output_type": "stream",
     "text": [
      "Database create successfully\n"
     ]
    }
   ],
   "source": [
    "#create mysql_python\n",
    "def create_database(connection,query):\n",
    "    cursor=connection.cursor()\n",
    "    try:\n",
    "        cursor.execute(query)\n",
    "        print(\"Database create successfully\")\n",
    "    except Error as err:\n",
    "        print(f\"Error:'{err}'\")\n",
    "create_database_query=\"Create database mysql_python\"\n",
    "create_database(connection,create_database_query)"
   ]
  },
  {
   "cell_type": "code",
   "execution_count": 11,
   "id": "fe541cb9",
   "metadata": {},
   "outputs": [],
   "source": [
    "#connect to database\n",
    "def create_db_connection(host_name,user_name,user_password,db_name):\n",
    "    connection=None\n",
    "    try:\n",
    "        connection=mysql.connector.connect(\n",
    "            host=host_name,\n",
    "            user=user_name,\n",
    "            passwd=user_password,\n",
    "            database=db_name)\n",
    "        print(\"MYSQL Database connection successful\")\n",
    "    except Error as err:\n",
    "        print(f\"Error:'{err}'\")\n",
    "    return connection\n",
    "        "
   ]
  },
  {
   "cell_type": "code",
   "execution_count": 19,
   "id": "5960cefe",
   "metadata": {},
   "outputs": [],
   "source": [
    "#execute sql queries\n",
    "def execute_query(connection,query):\n",
    "    cursor=connection.cursor()\n",
    "    try:\n",
    "        cursor.execute(query)\n",
    "        connection.commit()\n",
    "        print(\"Query was successful\")\n",
    "    except Error as err:\n",
    "        print(f\"Error:'{err}'\")"
   ]
  },
  {
   "cell_type": "code",
   "execution_count": 20,
   "id": "441dfb78",
   "metadata": {},
   "outputs": [
    {
     "name": "stdout",
     "output_type": "stream",
     "text": [
      "MYSQL Database connection successful\n",
      "Query was successful\n"
     ]
    }
   ],
   "source": [
    "create_orders_table=\"\"\"\n",
    "create table orders(\n",
    "order_id int primary key,\n",
    "customer_name varchar(30) not null,\n",
    "product_name varchar(20) not null,\n",
    "date_ordered date,\n",
    "quantity int,\n",
    "unit_price float,\n",
    "phone_number varchar(20));\n",
    "\"\"\"\n",
    "\n",
    "#connect to the database\n",
    "connection=create_db_connection(\"localhost\",\"root\",pw,db)\n",
    "execute_query(connection,create_orders_table)"
   ]
  },
  {
   "cell_type": "code",
   "execution_count": 22,
   "id": "42ff7649",
   "metadata": {},
   "outputs": [],
   "source": [
    "data_orders=\"\"\"\n",
    "insert into orders values\n",
    "(101,'steve','Laptop','2018-06-12',2,800,'627896543'),\n",
    "(102,'ste','Books','2019-06-12',2,12,'627896543'),\n",
    "(103,'san','Laptop','2019-10-02',7,800,'627896543'),\n",
    "(104,'mandal','Books','2018-07-11',9,400,'627689543'),\n",
    "(105,'akash','Tshirt','2019-06-17',6,900,'6764396543'),\n",
    "(106,'dikcha','TV','2018-06-11',2,600,'67896543');\n",
    "\"\"\"\n"
   ]
  },
  {
   "cell_type": "code",
   "execution_count": 23,
   "id": "b07c3b0a",
   "metadata": {},
   "outputs": [
    {
     "name": "stdout",
     "output_type": "stream",
     "text": [
      "MYSQL Database connection successful\n",
      "Query was successful\n"
     ]
    }
   ],
   "source": [
    "connection=create_db_connection(\"localhost\",\"root\",pw,db)\n",
    "execute_query(connection,data_orders)"
   ]
  },
  {
   "cell_type": "code",
   "execution_count": 24,
   "id": "76ee2045",
   "metadata": {},
   "outputs": [],
   "source": [
    "#read query\n",
    "\n",
    "def read_query(connection,query):\n",
    "    cursor=connection.cursor()\n",
    "    result=None\n",
    "    try:\n",
    "        cursor.execute(query)\n",
    "        result=cursor.fetchall()\n",
    "        return result\n",
    "    except Error as err:\n",
    "        print(f\"Error:'{err}'\")"
   ]
  },
  {
   "cell_type": "code",
   "execution_count": 25,
   "id": "51d7f70a",
   "metadata": {},
   "outputs": [
    {
     "name": "stdout",
     "output_type": "stream",
     "text": [
      "MYSQL Database connection successful\n",
      "(101, 'steve', 'Laptop', datetime.date(2018, 6, 12), 2, 800.0, '627896543')\n",
      "(102, 'ste', 'Books', datetime.date(2019, 6, 12), 2, 12.0, '627896543')\n",
      "(103, 'san', 'Laptop', datetime.date(2019, 10, 2), 7, 800.0, '627896543')\n",
      "(104, 'mandal', 'Books', datetime.date(2018, 7, 11), 9, 400.0, '627689543')\n",
      "(105, 'akash', 'Tshirt', datetime.date(2019, 6, 17), 6, 900.0, '6764396543')\n",
      "(106, 'dikcha', 'TV', datetime.date(2018, 6, 11), 2, 600.0, '67896543')\n"
     ]
    }
   ],
   "source": [
    "#using select statement\n",
    "q1=\"\"\"\n",
    "select * from orders;\n",
    "\"\"\"\n",
    "connection=create_db_connection(\"localhost\",\"root\",pw,db)\n",
    "results=read_query(connection,q1)\n",
    "for result in results:\n",
    "    print(result)"
   ]
  },
  {
   "cell_type": "code",
   "execution_count": 27,
   "id": "1dc06038",
   "metadata": {},
   "outputs": [
    {
     "name": "stdout",
     "output_type": "stream",
     "text": [
      "MYSQL Database connection successful\n",
      "('steve', '627896543')\n",
      "('ste', '627896543')\n",
      "('san', '627896543')\n",
      "('mandal', '627689543')\n",
      "('akash', '6764396543')\n",
      "('dikcha', '67896543')\n"
     ]
    }
   ],
   "source": [
    "q2=\"\"\"\n",
    "select customer_name,phone_number from orders;\n",
    "\"\"\"\n",
    "connection=create_db_connection(\"localhost\",\"root\",pw,db)\n",
    "results=read_query(connection,q2)\n",
    "for result in results:\n",
    "    print(result)"
   ]
  },
  {
   "cell_type": "code",
   "execution_count": 28,
   "id": "da793f71",
   "metadata": {},
   "outputs": [
    {
     "name": "stdout",
     "output_type": "stream",
     "text": [
      "MYSQL Database connection successful\n",
      "(2018,)\n",
      "(2019,)\n",
      "(2019,)\n",
      "(2018,)\n",
      "(2019,)\n",
      "(2018,)\n"
     ]
    }
   ],
   "source": [
    "q3=\"\"\"\n",
    "select year(date_ordered) from orders;\n",
    "\"\"\"\n",
    "connection=create_db_connection(\"localhost\",\"root\",pw,db)\n",
    "results=read_query(connection,q3)\n",
    "for result in results:\n",
    "    print(result)"
   ]
  },
  {
   "cell_type": "code",
   "execution_count": 29,
   "id": "279eb3e7",
   "metadata": {},
   "outputs": [
    {
     "name": "stdout",
     "output_type": "stream",
     "text": [
      "MYSQL Database connection successful\n",
      "(2018,)\n",
      "(2019,)\n"
     ]
    }
   ],
   "source": [
    "q4=\"\"\"\n",
    "select distinct year(date_ordered) from orders;\n",
    "\"\"\"\n",
    "connection=create_db_connection(\"localhost\",\"root\",pw,db)\n",
    "results=read_query(connection,q4)\n",
    "for result in results:\n",
    "    print(result)"
   ]
  },
  {
   "cell_type": "code",
   "execution_count": 30,
   "id": "92f10ba1",
   "metadata": {},
   "outputs": [
    {
     "name": "stdout",
     "output_type": "stream",
     "text": [
      "MYSQL Database connection successful\n",
      "(101, 'steve', 'Laptop', datetime.date(2018, 6, 12), 2, 800.0, '627896543')\n",
      "(104, 'mandal', 'Books', datetime.date(2018, 7, 11), 9, 400.0, '627689543')\n",
      "(106, 'dikcha', 'TV', datetime.date(2018, 6, 11), 2, 600.0, '67896543')\n"
     ]
    }
   ],
   "source": [
    "q5=\"\"\"\n",
    "select * from orders where date_ordered < '2018-12-31'\n",
    "\"\"\"\n",
    "connection=create_db_connection(\"localhost\",\"root\",pw,db)\n",
    "results=read_query(connection,q5)\n",
    "for result in results:\n",
    "    print(result)"
   ]
  },
  {
   "cell_type": "code",
   "execution_count": 32,
   "id": "8559cdb2",
   "metadata": {},
   "outputs": [
    {
     "name": "stdout",
     "output_type": "stream",
     "text": [
      "MYSQL Database connection successful\n",
      "(102, 'ste', 'Books', datetime.date(2019, 6, 12), 2, 12.0, '627896543')\n",
      "(103, 'san', 'Laptop', datetime.date(2019, 10, 2), 7, 800.0, '627896543')\n",
      "(105, 'akash', 'Tshirt', datetime.date(2019, 6, 17), 6, 900.0, '6764396543')\n"
     ]
    }
   ],
   "source": [
    "q6=\"\"\"\n",
    "select * from orders where date_ordered > '2018-12-31'\n",
    "\"\"\"\n",
    "connection=create_db_connection(\"localhost\",\"root\",pw,db)\n",
    "results=read_query(connection,q6)\n",
    "for result in results:\n",
    "    print(result)"
   ]
  },
  {
   "cell_type": "code",
   "execution_count": 33,
   "id": "10b62f5f",
   "metadata": {},
   "outputs": [
    {
     "name": "stdout",
     "output_type": "stream",
     "text": [
      "MYSQL Database connection successful\n",
      "(102, 'ste', 'Books', datetime.date(2019, 6, 12), 2, 12.0, '627896543')\n",
      "(104, 'mandal', 'Books', datetime.date(2018, 7, 11), 9, 400.0, '627689543')\n",
      "(106, 'dikcha', 'TV', datetime.date(2018, 6, 11), 2, 600.0, '67896543')\n",
      "(101, 'steve', 'Laptop', datetime.date(2018, 6, 12), 2, 800.0, '627896543')\n",
      "(103, 'san', 'Laptop', datetime.date(2019, 10, 2), 7, 800.0, '627896543')\n",
      "(105, 'akash', 'Tshirt', datetime.date(2019, 6, 17), 6, 900.0, '6764396543')\n"
     ]
    }
   ],
   "source": [
    "q7=\"\"\"\n",
    "select * from orders order by unit_price;\n",
    "\"\"\"\n",
    "connection=create_db_connection(\"localhost\",\"root\",pw,db)\n",
    "results=read_query(connection,q7)\n",
    "for result in results:\n",
    "    print(result)"
   ]
  },
  {
   "cell_type": "code",
   "execution_count": 36,
   "id": "c40025e9",
   "metadata": {},
   "outputs": [
    {
     "data": {
      "text/html": [
       "<div>\n",
       "<style scoped>\n",
       "    .dataframe tbody tr th:only-of-type {\n",
       "        vertical-align: middle;\n",
       "    }\n",
       "\n",
       "    .dataframe tbody tr th {\n",
       "        vertical-align: top;\n",
       "    }\n",
       "\n",
       "    .dataframe thead th {\n",
       "        text-align: right;\n",
       "    }\n",
       "</style>\n",
       "<table border=\"1\" class=\"dataframe\">\n",
       "  <thead>\n",
       "    <tr style=\"text-align: right;\">\n",
       "      <th></th>\n",
       "      <th>order_id</th>\n",
       "      <th>customer_name</th>\n",
       "      <th>product_name</th>\n",
       "      <th>date_ordered</th>\n",
       "      <th>quantity</th>\n",
       "      <th>unit_price</th>\n",
       "      <th>phone_number</th>\n",
       "    </tr>\n",
       "  </thead>\n",
       "  <tbody>\n",
       "    <tr>\n",
       "      <th>0</th>\n",
       "      <td>102</td>\n",
       "      <td>ste</td>\n",
       "      <td>Books</td>\n",
       "      <td>2019-06-12</td>\n",
       "      <td>2</td>\n",
       "      <td>12.0</td>\n",
       "      <td>627896543</td>\n",
       "    </tr>\n",
       "    <tr>\n",
       "      <th>1</th>\n",
       "      <td>104</td>\n",
       "      <td>mandal</td>\n",
       "      <td>Books</td>\n",
       "      <td>2018-07-11</td>\n",
       "      <td>9</td>\n",
       "      <td>400.0</td>\n",
       "      <td>627689543</td>\n",
       "    </tr>\n",
       "    <tr>\n",
       "      <th>2</th>\n",
       "      <td>106</td>\n",
       "      <td>dikcha</td>\n",
       "      <td>TV</td>\n",
       "      <td>2018-06-11</td>\n",
       "      <td>2</td>\n",
       "      <td>600.0</td>\n",
       "      <td>67896543</td>\n",
       "    </tr>\n",
       "    <tr>\n",
       "      <th>3</th>\n",
       "      <td>101</td>\n",
       "      <td>steve</td>\n",
       "      <td>Laptop</td>\n",
       "      <td>2018-06-12</td>\n",
       "      <td>2</td>\n",
       "      <td>800.0</td>\n",
       "      <td>627896543</td>\n",
       "    </tr>\n",
       "    <tr>\n",
       "      <th>4</th>\n",
       "      <td>103</td>\n",
       "      <td>san</td>\n",
       "      <td>Laptop</td>\n",
       "      <td>2019-10-02</td>\n",
       "      <td>7</td>\n",
       "      <td>800.0</td>\n",
       "      <td>627896543</td>\n",
       "    </tr>\n",
       "    <tr>\n",
       "      <th>5</th>\n",
       "      <td>105</td>\n",
       "      <td>akash</td>\n",
       "      <td>Tshirt</td>\n",
       "      <td>2019-06-17</td>\n",
       "      <td>6</td>\n",
       "      <td>900.0</td>\n",
       "      <td>6764396543</td>\n",
       "    </tr>\n",
       "  </tbody>\n",
       "</table>\n",
       "</div>"
      ],
      "text/plain": [
       "   order_id customer_name product_name date_ordered  quantity  unit_price  \\\n",
       "0       102           ste        Books   2019-06-12         2        12.0   \n",
       "1       104        mandal        Books   2018-07-11         9       400.0   \n",
       "2       106        dikcha           TV   2018-06-11         2       600.0   \n",
       "3       101         steve       Laptop   2018-06-12         2       800.0   \n",
       "4       103           san       Laptop   2019-10-02         7       800.0   \n",
       "5       105         akash       Tshirt   2019-06-17         6       900.0   \n",
       "\n",
       "  phone_number  \n",
       "0    627896543  \n",
       "1    627689543  \n",
       "2     67896543  \n",
       "3    627896543  \n",
       "4    627896543  \n",
       "5   6764396543  "
      ]
     },
     "metadata": {},
     "output_type": "display_data"
    }
   ],
   "source": [
    "from_db=[]\n",
    "for result in results:\n",
    "    result=list(result)\n",
    "    from_db.append(result)\n",
    "columns=[\"order_id\",\"customer_name\",\"product_name\",\"date_ordered\",\"quantity\",\"unit_price\",\"phone_number\"]\n",
    "df=pd.DataFrame(from_db,columns=columns)\n",
    "display(df)"
   ]
  },
  {
   "cell_type": "code",
   "execution_count": 37,
   "id": "f7880372",
   "metadata": {},
   "outputs": [
    {
     "name": "stdout",
     "output_type": "stream",
     "text": [
      "MYSQL Database connection successful\n",
      "Query was successful\n"
     ]
    }
   ],
   "source": [
    "#update statement\n",
    "update=\"\"\"\n",
    "update orders\n",
    "set unit_price=45\n",
    "where order_id=103\n",
    "\"\"\"\n",
    "connection=create_db_connection(\"localhost\",\"root\",pw,db)\n",
    "execute_query(connection,update)"
   ]
  },
  {
   "cell_type": "code",
   "execution_count": 39,
   "id": "f9c01b6c",
   "metadata": {},
   "outputs": [
    {
     "name": "stdout",
     "output_type": "stream",
     "text": [
      "MYSQL Database connection successful\n",
      "(103, 'san', 'Laptop', datetime.date(2019, 10, 2), 7, 45.0, '627896543')\n"
     ]
    }
   ],
   "source": [
    "q8=\"\"\"\n",
    "select * from orders where order_id=103;\n",
    "\"\"\"\n",
    "connection=create_db_connection(\"localhost\",\"root\",pw,db)\n",
    "results=read_query(connection,q8)\n",
    "for result in results:\n",
    "    print(result)"
   ]
  },
  {
   "cell_type": "code",
   "execution_count": 40,
   "id": "4c930ab9",
   "metadata": {},
   "outputs": [
    {
     "name": "stdout",
     "output_type": "stream",
     "text": [
      "MYSQL Database connection successful\n",
      "Query was successful\n"
     ]
    }
   ],
   "source": [
    "#delete statement\n",
    "delete_order=\"\"\"\n",
    "delete from orders\n",
    "where order_id=105;\n",
    "\"\"\"\n",
    "connection=create_db_connection(\"localhost\",\"root\",pw,db)\n",
    "execute_query(connection,delete_order)"
   ]
  },
  {
   "cell_type": "code",
   "execution_count": 41,
   "id": "b1ee20d0",
   "metadata": {},
   "outputs": [
    {
     "name": "stdout",
     "output_type": "stream",
     "text": [
      "MYSQL Database connection successful\n",
      "(101, 'steve', 'Laptop', datetime.date(2018, 6, 12), 2, 800.0, '627896543')\n",
      "(102, 'ste', 'Books', datetime.date(2019, 6, 12), 2, 12.0, '627896543')\n",
      "(103, 'san', 'Laptop', datetime.date(2019, 10, 2), 7, 45.0, '627896543')\n",
      "(104, 'mandal', 'Books', datetime.date(2018, 7, 11), 9, 400.0, '627689543')\n",
      "(106, 'dikcha', 'TV', datetime.date(2018, 6, 11), 2, 600.0, '67896543')\n"
     ]
    }
   ],
   "source": [
    "q9=\"\"\"\n",
    "select * from orders ;\n",
    "\"\"\"\n",
    "connection=create_db_connection(\"localhost\",\"root\",pw,db)\n",
    "results=read_query(connection,q9)\n",
    "for result in results:\n",
    "    print(result)"
   ]
  },
  {
   "cell_type": "code",
   "execution_count": null,
   "id": "afbbb9be",
   "metadata": {},
   "outputs": [],
   "source": []
  }
 ],
 "metadata": {
  "kernelspec": {
   "display_name": "Python 3 (ipykernel)",
   "language": "python",
   "name": "python3"
  },
  "language_info": {
   "codemirror_mode": {
    "name": "ipython",
    "version": 3
   },
   "file_extension": ".py",
   "mimetype": "text/x-python",
   "name": "python",
   "nbconvert_exporter": "python",
   "pygments_lexer": "ipython3",
   "version": "3.9.7"
  }
 },
 "nbformat": 4,
 "nbformat_minor": 5
}
